{
 "cells": [
  {
   "cell_type": "code",
   "execution_count": 1,
   "id": "6da51fa8",
   "metadata": {
    "ExecuteTime": {
     "end_time": "2021-11-09T19:46:44.577948Z",
     "start_time": "2021-11-09T19:46:44.192032Z"
    }
   },
   "outputs": [],
   "source": [
    "import pandas as pd"
   ]
  },
  {
   "cell_type": "code",
   "execution_count": 2,
   "id": "51ca1006",
   "metadata": {
    "ExecuteTime": {
     "end_time": "2021-11-09T19:46:45.893864Z",
     "start_time": "2021-11-09T19:46:44.577948Z"
    }
   },
   "outputs": [],
   "source": [
    "anes_df = pd.read_csv(\"data.csv\", low_memory=False)"
   ]
  },
  {
   "cell_type": "code",
   "execution_count": 3,
   "id": "288112e0",
   "metadata": {
    "ExecuteTime": {
     "end_time": "2021-11-09T19:46:45.909771Z",
     "start_time": "2021-11-09T19:46:45.895929Z"
    }
   },
   "outputs": [],
   "source": [
    "anes_new = anes_df[[\"presapp_foreignstr\",\"guarpr_dpc\",\"guarpr_rpc\",\"envir_gwarm\",\"envir_nuke\",\"envir_drill\",\"envjob_rpc\",\"envjob_dpc\",\"inspre_dpc\",\"inspre_rpc\",\"ineq_incgap_x\",\"ineqinc_ineqreduc\",\"econcand_rwin\",\"econcand_dwin\",\"immigpo_level\",\"immigpo_jobs\",\"immig_policy\",\"milln_milltax_x\",\"iran_nukeinvd\",\"iran_nuksanct\",\"china_econ\",\"war_worthit\",\"war_terror\",\"israel_support\",\"defsppr_dpc\",\"defsppr_rpc\",\"prevote_intpreswho\",\"postvote_presvtwho\", \"prevote_intpresst\"]].copy()\n",
    "\n",
    "# list of variables corresponding to domestic policies\n",
    "domestic_policy = [\"guarpr_dpc\",\"guarpr_rpc\",\"envir_gwarm\",\"envir_nuke\",\"envir_drill\",\"envjob_rpc\",\"envjob_dpc\",\"inspre_dpc\",\"inspre_rpc\",\"ineq_incgap_x\",\"ineqinc_ineqreduc\",\"econcand_rwin\",\"econcand_dwin\",\"immigpo_level\",\"immigpo_jobs\",\"immig_policy\",\"milln_milltax_x\"]\n",
    "\n",
    "# list of variables corresponding to foreign policies\n",
    "foreign_policy = [\"presapp_foreignstr\", \"iran_nukeinvd\",\"iran_nuksanct\",\"china_econ\",\"war_worthit\",\"war_terror\",\"israel_support\",\"defsppr_dpc\",\"defsppr_rpc\"]\n",
    "\n",
    "# list of target\n",
    "target = [\"prevote_intpreswho\",\"postvote_presvtwho\", \"prevote_intpresst\"]"
   ]
  },
  {
   "cell_type": "code",
   "execution_count": 4,
   "id": "f8939a0e",
   "metadata": {
    "ExecuteTime": {
     "end_time": "2021-11-09T19:46:45.957351Z",
     "start_time": "2021-11-09T19:46:45.911688Z"
    }
   },
   "outputs": [],
   "source": [
    "## converted all negative values to -1 \n",
    "\n",
    "anes_new_x = anes_new.copy()\n",
    "anes_new_x[anes_new_x<0] = -1 "
   ]
  },
  {
   "cell_type": "code",
   "execution_count": 5,
   "id": "ea793062",
   "metadata": {
    "ExecuteTime": {
     "end_time": "2021-11-09T19:46:45.972860Z",
     "start_time": "2021-11-09T19:46:45.958860Z"
    }
   },
   "outputs": [],
   "source": [
    "anes_mod = anes_new_x.copy() #copy before changing categorical variables"
   ]
  },
  {
   "cell_type": "code",
   "execution_count": 6,
   "id": "aaad059c",
   "metadata": {
    "ExecuteTime": {
     "end_time": "2021-11-09T19:46:45.988368Z",
     "start_time": "2021-11-09T19:46:45.973860Z"
    }
   },
   "outputs": [],
   "source": [
    "## Functions to modify scale of categorical variables\n",
    "\n",
    "def modify_order_3(s):\n",
    "    if s ==\"1.0\":\n",
    "        s = 3\n",
    "    elif s == \"2.0\":\n",
    "        s = 1\n",
    "    elif s == \"3.0\":\n",
    "        s = 2\n",
    "    else:\n",
    "        s = -1\n",
    "    \n",
    "    return s  \n",
    "\n",
    "def modify_order_2(s):\n",
    "    if s ==\"1.0\":\n",
    "        s = 2\n",
    "    elif s == \"2.0\":\n",
    "        s = 1\n",
    "    else:\n",
    "        s = -1\n",
    "    \n",
    "    return s \n",
    "\n",
    "def modify_order_5(s):\n",
    "    if s == 1:\n",
    "        s = 5\n",
    "    elif s == 2:\n",
    "        s = 4\n",
    "    elif s == 4:\n",
    "        s = 2\n",
    "    elif s == 5:\n",
    "        s = 1\n",
    "    \n",
    "    return s \n",
    "\n",
    "def modify_order_4(s):\n",
    "    if s == 1:\n",
    "        s = 4\n",
    "    elif s == 2:\n",
    "        s = 3\n",
    "    elif s == 3:\n",
    "        s = 2\n",
    "    elif s == 4:\n",
    "        s = 1\n",
    "    \n",
    "    return s \n",
    "\n",
    "def modify_order_7(s):\n",
    "    if s == 1:\n",
    "        s = 7\n",
    "    elif s == 2:\n",
    "        s = 6\n",
    "    elif s == 3:\n",
    "        s = 5\n",
    "    elif s == 5:\n",
    "        s = 3\n",
    "    elif s == 6:\n",
    "        s = 2\n",
    "    elif s == 7:\n",
    "        s = 1\n",
    "    \n",
    "    return s "
   ]
  },
  {
   "cell_type": "code",
   "execution_count": 7,
   "id": "93216edf",
   "metadata": {
    "ExecuteTime": {
     "end_time": "2021-11-09T19:46:46.066367Z",
     "start_time": "2021-11-09T19:46:45.989876Z"
    }
   },
   "outputs": [],
   "source": [
    "for c in [\"envir_nuke\", \"envir_drill\",\"ineqinc_ineqreduc\",\"iran_nukeinvd\",\"iran_nuksanct\",\"china_econ\",\"war_terror\",\"israel_support\"]:\n",
    "    anes_mod[c] = anes_mod[c].astype(str)\n",
    "    anes_mod[c] = anes_mod[c].map(modify_order_3)\n",
    "\n",
    "    \n",
    "for c in [\"envir_gwarm\", \"war_worthit\", \"presapp_foreignstr\"]:\n",
    "    anes_mod[c] = anes_mod[c].astype(str)\n",
    "    anes_mod[c] = anes_mod[c].map(modify_order_2)\n",
    "\n",
    "    \n",
    "for c in [\"ineq_incgap_x\", \"immigpo_level\"]:\n",
    "    anes_mod[c] = anes_mod[c].map(modify_order_5)\n",
    "\n",
    "    \n",
    "anes_mod['immigpo_jobs'] = anes_mod['immigpo_jobs'].map(modify_order_4)\n",
    "\n",
    "\n",
    "anes_mod['milln_milltax_x'] = anes_mod['milln_milltax_x'].map(modify_order_7)"
   ]
  },
  {
   "cell_type": "code",
   "execution_count": 8,
   "id": "9a0d99d6",
   "metadata": {
    "ExecuteTime": {
     "end_time": "2021-11-09T19:46:46.097203Z",
     "start_time": "2021-11-09T19:46:46.068353Z"
    }
   },
   "outputs": [
    {
     "data": {
      "text/html": [
       "<div>\n",
       "<style scoped>\n",
       "    .dataframe tbody tr th:only-of-type {\n",
       "        vertical-align: middle;\n",
       "    }\n",
       "\n",
       "    .dataframe tbody tr th {\n",
       "        vertical-align: top;\n",
       "    }\n",
       "\n",
       "    .dataframe thead th {\n",
       "        text-align: right;\n",
       "    }\n",
       "</style>\n",
       "<table border=\"1\" class=\"dataframe\">\n",
       "  <thead>\n",
       "    <tr style=\"text-align: right;\">\n",
       "      <th></th>\n",
       "      <th>presapp_foreignstr</th>\n",
       "      <th>guarpr_dpc</th>\n",
       "      <th>guarpr_rpc</th>\n",
       "      <th>envir_gwarm</th>\n",
       "      <th>envir_nuke</th>\n",
       "      <th>envir_drill</th>\n",
       "      <th>envjob_rpc</th>\n",
       "      <th>envjob_dpc</th>\n",
       "      <th>inspre_dpc</th>\n",
       "      <th>inspre_rpc</th>\n",
       "      <th>...</th>\n",
       "      <th>iran_nuksanct</th>\n",
       "      <th>china_econ</th>\n",
       "      <th>war_worthit</th>\n",
       "      <th>war_terror</th>\n",
       "      <th>israel_support</th>\n",
       "      <th>defsppr_dpc</th>\n",
       "      <th>defsppr_rpc</th>\n",
       "      <th>prevote_intpreswho</th>\n",
       "      <th>postvote_presvtwho</th>\n",
       "      <th>prevote_intpresst</th>\n",
       "    </tr>\n",
       "  </thead>\n",
       "  <tbody>\n",
       "    <tr>\n",
       "      <th>0</th>\n",
       "      <td>2</td>\n",
       "      <td>3.0</td>\n",
       "      <td>7.0</td>\n",
       "      <td>2</td>\n",
       "      <td>2</td>\n",
       "      <td>3</td>\n",
       "      <td>7.0</td>\n",
       "      <td>2.0</td>\n",
       "      <td>2.0</td>\n",
       "      <td>-1.0</td>\n",
       "      <td>...</td>\n",
       "      <td>-1</td>\n",
       "      <td>-1</td>\n",
       "      <td>1</td>\n",
       "      <td>2</td>\n",
       "      <td>-1</td>\n",
       "      <td>1.0</td>\n",
       "      <td>7.0</td>\n",
       "      <td>1.0</td>\n",
       "      <td>-1.0</td>\n",
       "      <td>1.0</td>\n",
       "    </tr>\n",
       "    <tr>\n",
       "      <th>1</th>\n",
       "      <td>2</td>\n",
       "      <td>1.0</td>\n",
       "      <td>7.0</td>\n",
       "      <td>1</td>\n",
       "      <td>1</td>\n",
       "      <td>1</td>\n",
       "      <td>7.0</td>\n",
       "      <td>1.0</td>\n",
       "      <td>1.0</td>\n",
       "      <td>7.0</td>\n",
       "      <td>...</td>\n",
       "      <td>-1</td>\n",
       "      <td>3</td>\n",
       "      <td>1</td>\n",
       "      <td>2</td>\n",
       "      <td>3</td>\n",
       "      <td>4.0</td>\n",
       "      <td>7.0</td>\n",
       "      <td>1.0</td>\n",
       "      <td>1.0</td>\n",
       "      <td>1.0</td>\n",
       "    </tr>\n",
       "    <tr>\n",
       "      <th>2</th>\n",
       "      <td>2</td>\n",
       "      <td>1.0</td>\n",
       "      <td>7.0</td>\n",
       "      <td>2</td>\n",
       "      <td>2</td>\n",
       "      <td>3</td>\n",
       "      <td>7.0</td>\n",
       "      <td>1.0</td>\n",
       "      <td>1.0</td>\n",
       "      <td>7.0</td>\n",
       "      <td>...</td>\n",
       "      <td>3</td>\n",
       "      <td>-1</td>\n",
       "      <td>2</td>\n",
       "      <td>1</td>\n",
       "      <td>2</td>\n",
       "      <td>4.0</td>\n",
       "      <td>5.0</td>\n",
       "      <td>1.0</td>\n",
       "      <td>1.0</td>\n",
       "      <td>1.0</td>\n",
       "    </tr>\n",
       "    <tr>\n",
       "      <th>3</th>\n",
       "      <td>-1</td>\n",
       "      <td>1.0</td>\n",
       "      <td>7.0</td>\n",
       "      <td>2</td>\n",
       "      <td>2</td>\n",
       "      <td>1</td>\n",
       "      <td>4.0</td>\n",
       "      <td>1.0</td>\n",
       "      <td>1.0</td>\n",
       "      <td>7.0</td>\n",
       "      <td>...</td>\n",
       "      <td>3</td>\n",
       "      <td>-1</td>\n",
       "      <td>1</td>\n",
       "      <td>1</td>\n",
       "      <td>2</td>\n",
       "      <td>-1.0</td>\n",
       "      <td>-1.0</td>\n",
       "      <td>1.0</td>\n",
       "      <td>1.0</td>\n",
       "      <td>1.0</td>\n",
       "    </tr>\n",
       "    <tr>\n",
       "      <th>4</th>\n",
       "      <td>2</td>\n",
       "      <td>2.0</td>\n",
       "      <td>6.0</td>\n",
       "      <td>2</td>\n",
       "      <td>1</td>\n",
       "      <td>3</td>\n",
       "      <td>4.0</td>\n",
       "      <td>1.0</td>\n",
       "      <td>2.0</td>\n",
       "      <td>7.0</td>\n",
       "      <td>...</td>\n",
       "      <td>3</td>\n",
       "      <td>1</td>\n",
       "      <td>2</td>\n",
       "      <td>1</td>\n",
       "      <td>2</td>\n",
       "      <td>5.0</td>\n",
       "      <td>6.0</td>\n",
       "      <td>1.0</td>\n",
       "      <td>1.0</td>\n",
       "      <td>1.0</td>\n",
       "    </tr>\n",
       "  </tbody>\n",
       "</table>\n",
       "<p>5 rows × 29 columns</p>\n",
       "</div>"
      ],
      "text/plain": [
       "   presapp_foreignstr  guarpr_dpc  guarpr_rpc  envir_gwarm  envir_nuke  \\\n",
       "0                   2         3.0         7.0            2           2   \n",
       "1                   2         1.0         7.0            1           1   \n",
       "2                   2         1.0         7.0            2           2   \n",
       "3                  -1         1.0         7.0            2           2   \n",
       "4                   2         2.0         6.0            2           1   \n",
       "\n",
       "   envir_drill  envjob_rpc  envjob_dpc  inspre_dpc  inspre_rpc  ...  \\\n",
       "0            3         7.0         2.0         2.0        -1.0  ...   \n",
       "1            1         7.0         1.0         1.0         7.0  ...   \n",
       "2            3         7.0         1.0         1.0         7.0  ...   \n",
       "3            1         4.0         1.0         1.0         7.0  ...   \n",
       "4            3         4.0         1.0         2.0         7.0  ...   \n",
       "\n",
       "   iran_nuksanct  china_econ  war_worthit  war_terror  israel_support  \\\n",
       "0             -1          -1            1           2              -1   \n",
       "1             -1           3            1           2               3   \n",
       "2              3          -1            2           1               2   \n",
       "3              3          -1            1           1               2   \n",
       "4              3           1            2           1               2   \n",
       "\n",
       "   defsppr_dpc  defsppr_rpc  prevote_intpreswho  postvote_presvtwho  \\\n",
       "0          1.0          7.0                 1.0                -1.0   \n",
       "1          4.0          7.0                 1.0                 1.0   \n",
       "2          4.0          5.0                 1.0                 1.0   \n",
       "3         -1.0         -1.0                 1.0                 1.0   \n",
       "4          5.0          6.0                 1.0                 1.0   \n",
       "\n",
       "   prevote_intpresst  \n",
       "0                1.0  \n",
       "1                1.0  \n",
       "2                1.0  \n",
       "3                1.0  \n",
       "4                1.0  \n",
       "\n",
       "[5 rows x 29 columns]"
      ]
     },
     "execution_count": 8,
     "metadata": {},
     "output_type": "execute_result"
    }
   ],
   "source": [
    "anes_mod.head() ## print final df"
   ]
  },
  {
   "cell_type": "code",
   "execution_count": 9,
   "id": "8b2fff84",
   "metadata": {
    "ExecuteTime": {
     "end_time": "2021-11-09T19:46:46.176533Z",
     "start_time": "2021-11-09T19:46:46.100112Z"
    }
   },
   "outputs": [],
   "source": [
    "anes_mod.to_csv('cleaned_data.csv')"
   ]
  }
 ],
 "metadata": {
  "kernelspec": {
   "display_name": "Python 3",
   "language": "python",
   "name": "python3"
  },
  "language_info": {
   "codemirror_mode": {
    "name": "ipython",
    "version": 3
   },
   "file_extension": ".py",
   "mimetype": "text/x-python",
   "name": "python",
   "nbconvert_exporter": "python",
   "pygments_lexer": "ipython3",
   "version": "3.8.8"
  },
  "varInspector": {
   "cols": {
    "lenName": 16,
    "lenType": 16,
    "lenVar": 40
   },
   "kernels_config": {
    "python": {
     "delete_cmd_postfix": "",
     "delete_cmd_prefix": "del ",
     "library": "var_list.py",
     "varRefreshCmd": "print(var_dic_list())"
    },
    "r": {
     "delete_cmd_postfix": ") ",
     "delete_cmd_prefix": "rm(",
     "library": "var_list.r",
     "varRefreshCmd": "cat(var_dic_list()) "
    }
   },
   "types_to_exclude": [
    "module",
    "function",
    "builtin_function_or_method",
    "instance",
    "_Feature"
   ],
   "window_display": false
  }
 },
 "nbformat": 4,
 "nbformat_minor": 5
}
